{
 "cells": [
  {
   "cell_type": "markdown",
   "id": "f28c6a78-a486-4c5e-ba52-8a092e67b25b",
   "metadata": {},
   "source": [
    "# Data Science Tools and Ecosystem"
   ]
  },
  {
   "cell_type": "markdown",
   "id": "02fb276f-6499-4a54-9b0e-b021680c4fba",
   "metadata": {},
   "source": [
    "## Author\n",
    "Fabiano O C Prado"
   ]
  },
  {
   "attachments": {},
   "cell_type": "markdown",
   "id": "b1b5405a-5510-440b-81f1-dfefb27de0d2",
   "metadata": {},
   "source": [
    "In this notebook, Data Science Tools and Ecosystem are sumarized"
   ]
  },
  {
   "cell_type": "markdown",
   "id": "a20bcfcc-6703-4a0e-bf15-23b912f00dc4",
   "metadata": {},
   "source": [
    "**Objectives:**\n",
    "* List popular languages for DS\n",
    "* List commonly used Python packages for DS\n",
    "* Table three IDE used for DS\n",
    "* Show basic arithmetic operation\n",
    "* Show arithmetic operation by using variable"
   ]
  },
  {
   "cell_type": "markdown",
   "id": "ad78bee6-6c3d-4739-b032-06f9a806dbd6",
   "metadata": {},
   "source": [
    "Some of the popular languages that Data Scientists use are:\n",
    "1. Python\n",
    "2. R\n",
    "3. Julia\n",
    "4. Scala\n",
    "5. Mojo"
   ]
  },
  {
   "cell_type": "markdown",
   "id": "d6a62b9e-f4ab-4323-9dae-051e76245560",
   "metadata": {},
   "source": [
    "Some of the commonly used libraries used by Data Scientists include:\n",
    "1. numpy\n",
    "2. pandas\n",
    "3. scikitlearn (sklearn)\n",
    "4. seaborn\n",
    "5. matplotlib"
   ]
  },
  {
   "cell_type": "markdown",
   "id": "790b4e3e-d834-4540-bdb8-6457ce4d0e4d",
   "metadata": {},
   "source": [
    "|Data Science Tools|\n",
    "|---------------|\n",
    "|Jupyter|\n",
    "|VS Code|\n",
    "|RStudio|"
   ]
  },
  {
   "cell_type": "markdown",
   "id": "d9c9e337-c02d-48ed-a4c9-a57681eee2b0",
   "metadata": {},
   "source": [
    "### Below are a few examples of evaluating arithmetic expressions in Python"
   ]
  },
  {
   "cell_type": "code",
   "execution_count": 1,
   "id": "b6b1dc79-bf8d-4e89-ac55-dc72a71d9551",
   "metadata": {},
   "outputs": [
    {
     "data": {
      "text/plain": [
       "17"
      ]
     },
     "execution_count": 1,
     "metadata": {},
     "output_type": "execute_result"
    }
   ],
   "source": [
    "# this a simple arithmetic expression to multiply then add integers\n",
    "(3*4)+5"
   ]
  },
  {
   "cell_type": "code",
   "execution_count": 2,
   "id": "2532fa55-68a7-40d5-b475-74faaab3c14f",
   "metadata": {},
   "outputs": [
    {
     "data": {
      "text/plain": [
       "3.3333333333333335"
      ]
     },
     "execution_count": 2,
     "metadata": {},
     "output_type": "execute_result"
    }
   ],
   "source": [
    "# this will convert 200 minutes in hours by dividing by 60\n",
    "\n",
    "min = 200\n",
    "min/60"
   ]
  },
  {
   "cell_type": "code",
   "execution_count": null,
   "id": "10451872-f190-40c1-8d0a-7f970abeed6a",
   "metadata": {},
   "outputs": [],
   "source": []
  }
 ],
 "metadata": {
  "kernelspec": {
   "display_name": "Python 3 (ipykernel)",
   "language": "python",
   "name": "python3"
  },
  "language_info": {
   "codemirror_mode": {
    "name": "ipython",
    "version": 3
   },
   "file_extension": ".py",
   "mimetype": "text/x-python",
   "name": "python",
   "nbconvert_exporter": "python",
   "pygments_lexer": "ipython3",
   "version": "3.12.3"
  }
 },
 "nbformat": 4,
 "nbformat_minor": 5
}
